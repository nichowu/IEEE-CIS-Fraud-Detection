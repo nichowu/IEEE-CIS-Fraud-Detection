{
 "cells": [
  {
   "cell_type": "markdown",
   "id": "d4b7459b-ede6-4848-b75c-1433d3ee8a08",
   "metadata": {},
   "source": [
    "# [IEEE Fraud Detection Competition](https://www.kaggle.com/c/ieee-fraud-detection/overview)"
   ]
  },
  {
   "cell_type": "markdown",
   "id": "e19f35b2-3153-4945-92aa-a0a373d6d9d2",
   "metadata": {},
   "source": [
    "From the [competition overview](https://www.kaggle.com/c/ieee-fraud-detection/overview):\n",
    "\n",
    "In this competition, you’ll benchmark machine learning models on a challenging large-scale dataset. The data comes from Vesta's real-world e-commerce transactions and contains a wide range of features from device type to product features. You also have the opportunity to create new features to improve your results.\n",
    "\n",
    "If successful, you’ll improve the efficacy of fraudulent transaction alerts for millions of people around the world, helping hundreds of thousands of businesses reduce their fraud loss and increase their revenue. And of course, you will save party people just like you the hassle of false positives."
   ]
  },
  {
   "cell_type": "markdown",
   "id": "d4c09cb3-588d-453d-b5bf-f2e55e464601",
   "metadata": {},
   "source": [
    "## Goal: \n",
    "- Basic exploritory data analysis on the IEEE Fraud Detection dataset.\n",
    "- Feature Engineering and Using LGBM to Make a Prediction"
   ]
  },
  {
   "cell_type": "code",
   "execution_count": 1,
   "id": "d3613651-2c93-48e1-ab38-4fe63b9f1f7f",
   "metadata": {},
   "outputs": [],
   "source": [
    "import numpy as np # linear algebra\n",
    "import pandas as pd # data processing\n",
    "import matplotlib.pylab as plt\n",
    "import seaborn as sns\n",
    "import warnings\n",
    "warnings.simplefilter(\"ignore\")\n",
    "plt.style.use('ggplot')\n",
    "color_pal = [x['color'] for x in plt.rcParams['axes.prop_cycle']]"
   ]
  },
  {
   "cell_type": "markdown",
   "id": "a9550df4-1bf0-4be5-aa51-5d74d776bdef",
   "metadata": {},
   "source": [
    "# 1. Data"
   ]
  },
  {
   "cell_type": "markdown",
   "id": "46cc95cb-92d1-4fdf-9225-ba2aebf088df",
   "metadata": {},
   "source": [
    "In the competition I am predicting the probability that an online transaction is fraudulent, as denoted by the binary target is Fraud.\n",
    "\n",
    "The data is broken into two files identity and transaction, which can be joined by TransactionID. "
   ]
  },
  {
   "cell_type": "markdown",
   "id": "5ad7fc5a-5167-45c8-80b3-e9f3a0af9128",
   "metadata": {},
   "source": [
    "### 1.1 Read the data"
   ]
  },
  {
   "cell_type": "code",
   "execution_count": 2,
   "id": "be161632-8da9-4025-8548-d4a42b68f7b3",
   "metadata": {},
   "outputs": [
    {
     "name": "stdout",
     "output_type": "stream",
     "text": [
      "CPU times: user 24.5 s, sys: 5.64 s, total: 30.2 s\n",
      "Wall time: 31 s\n"
     ]
    }
   ],
   "source": [
    "%%time\n",
    "# Transaction CSVs\n",
    "train_transaction = pd.read_csv('./data/train_transaction.csv')\n",
    "test_transaction = pd.read_csv('./data/test_transaction.csv')\n",
    "\n",
    "# Identity CSVs - These will be merged onto the transactions to create additional features\n",
    "train_identity = pd.read_csv('./data/train_identity.csv')\n",
    "test_identity = pd.read_csv('./data/test_identity.csv')\n",
    "\n",
    "# Sample Submissions\n",
    "ss = pd.read_csv('./data/sample_submission.csv')"
   ]
  },
  {
   "cell_type": "code",
   "execution_count": 3,
   "id": "a6398ea6-4b9f-466c-83d6-da8ed1df7900",
   "metadata": {},
   "outputs": [
    {
     "name": "stdout",
     "output_type": "stream",
     "text": [
      "train_transaction shape is (590540, 394)\n",
      "test_transaction shape is (506691, 393)\n",
      "train_identity shape is (144233, 41)\n",
      "test_identity shape is (141907, 41)\n"
     ]
    }
   ],
   "source": [
    "print('train_transaction shape is {}'.format(train_transaction.shape))\n",
    "print('test_transaction shape is {}'.format(test_transaction.shape))\n",
    "print('train_identity shape is {}'.format(train_identity.shape))\n",
    "print('test_identity shape is {}'.format(test_identity.shape))"
   ]
  },
  {
   "cell_type": "code",
   "execution_count": 4,
   "id": "cb692115-ab9e-4b4d-9aa0-1df56deeab15",
   "metadata": {},
   "outputs": [
    {
     "data": {
      "text/html": [
       "<div>\n",
       "<style scoped>\n",
       "    .dataframe tbody tr th:only-of-type {\n",
       "        vertical-align: middle;\n",
       "    }\n",
       "\n",
       "    .dataframe tbody tr th {\n",
       "        vertical-align: top;\n",
       "    }\n",
       "\n",
       "    .dataframe thead th {\n",
       "        text-align: right;\n",
       "    }\n",
       "</style>\n",
       "<table border=\"1\" class=\"dataframe\">\n",
       "  <thead>\n",
       "    <tr style=\"text-align: right;\">\n",
       "      <th></th>\n",
       "      <th>TransactionID</th>\n",
       "      <th>isFraud</th>\n",
       "      <th>TransactionDT</th>\n",
       "      <th>TransactionAmt</th>\n",
       "      <th>ProductCD</th>\n",
       "      <th>card1</th>\n",
       "      <th>card2</th>\n",
       "      <th>card3</th>\n",
       "      <th>card4</th>\n",
       "      <th>card5</th>\n",
       "      <th>...</th>\n",
       "      <th>V330</th>\n",
       "      <th>V331</th>\n",
       "      <th>V332</th>\n",
       "      <th>V333</th>\n",
       "      <th>V334</th>\n",
       "      <th>V335</th>\n",
       "      <th>V336</th>\n",
       "      <th>V337</th>\n",
       "      <th>V338</th>\n",
       "      <th>V339</th>\n",
       "    </tr>\n",
       "  </thead>\n",
       "  <tbody>\n",
       "    <tr>\n",
       "      <th>0</th>\n",
       "      <td>2987000</td>\n",
       "      <td>0</td>\n",
       "      <td>86400</td>\n",
       "      <td>68.5</td>\n",
       "      <td>W</td>\n",
       "      <td>13926</td>\n",
       "      <td>NaN</td>\n",
       "      <td>150.0</td>\n",
       "      <td>discover</td>\n",
       "      <td>142.0</td>\n",
       "      <td>...</td>\n",
       "      <td>NaN</td>\n",
       "      <td>NaN</td>\n",
       "      <td>NaN</td>\n",
       "      <td>NaN</td>\n",
       "      <td>NaN</td>\n",
       "      <td>NaN</td>\n",
       "      <td>NaN</td>\n",
       "      <td>NaN</td>\n",
       "      <td>NaN</td>\n",
       "      <td>NaN</td>\n",
       "    </tr>\n",
       "    <tr>\n",
       "      <th>1</th>\n",
       "      <td>2987001</td>\n",
       "      <td>0</td>\n",
       "      <td>86401</td>\n",
       "      <td>29.0</td>\n",
       "      <td>W</td>\n",
       "      <td>2755</td>\n",
       "      <td>404.0</td>\n",
       "      <td>150.0</td>\n",
       "      <td>mastercard</td>\n",
       "      <td>102.0</td>\n",
       "      <td>...</td>\n",
       "      <td>NaN</td>\n",
       "      <td>NaN</td>\n",
       "      <td>NaN</td>\n",
       "      <td>NaN</td>\n",
       "      <td>NaN</td>\n",
       "      <td>NaN</td>\n",
       "      <td>NaN</td>\n",
       "      <td>NaN</td>\n",
       "      <td>NaN</td>\n",
       "      <td>NaN</td>\n",
       "    </tr>\n",
       "    <tr>\n",
       "      <th>2</th>\n",
       "      <td>2987002</td>\n",
       "      <td>0</td>\n",
       "      <td>86469</td>\n",
       "      <td>59.0</td>\n",
       "      <td>W</td>\n",
       "      <td>4663</td>\n",
       "      <td>490.0</td>\n",
       "      <td>150.0</td>\n",
       "      <td>visa</td>\n",
       "      <td>166.0</td>\n",
       "      <td>...</td>\n",
       "      <td>NaN</td>\n",
       "      <td>NaN</td>\n",
       "      <td>NaN</td>\n",
       "      <td>NaN</td>\n",
       "      <td>NaN</td>\n",
       "      <td>NaN</td>\n",
       "      <td>NaN</td>\n",
       "      <td>NaN</td>\n",
       "      <td>NaN</td>\n",
       "      <td>NaN</td>\n",
       "    </tr>\n",
       "    <tr>\n",
       "      <th>3</th>\n",
       "      <td>2987003</td>\n",
       "      <td>0</td>\n",
       "      <td>86499</td>\n",
       "      <td>50.0</td>\n",
       "      <td>W</td>\n",
       "      <td>18132</td>\n",
       "      <td>567.0</td>\n",
       "      <td>150.0</td>\n",
       "      <td>mastercard</td>\n",
       "      <td>117.0</td>\n",
       "      <td>...</td>\n",
       "      <td>NaN</td>\n",
       "      <td>NaN</td>\n",
       "      <td>NaN</td>\n",
       "      <td>NaN</td>\n",
       "      <td>NaN</td>\n",
       "      <td>NaN</td>\n",
       "      <td>NaN</td>\n",
       "      <td>NaN</td>\n",
       "      <td>NaN</td>\n",
       "      <td>NaN</td>\n",
       "    </tr>\n",
       "    <tr>\n",
       "      <th>4</th>\n",
       "      <td>2987004</td>\n",
       "      <td>0</td>\n",
       "      <td>86506</td>\n",
       "      <td>50.0</td>\n",
       "      <td>H</td>\n",
       "      <td>4497</td>\n",
       "      <td>514.0</td>\n",
       "      <td>150.0</td>\n",
       "      <td>mastercard</td>\n",
       "      <td>102.0</td>\n",
       "      <td>...</td>\n",
       "      <td>0.0</td>\n",
       "      <td>0.0</td>\n",
       "      <td>0.0</td>\n",
       "      <td>0.0</td>\n",
       "      <td>0.0</td>\n",
       "      <td>0.0</td>\n",
       "      <td>0.0</td>\n",
       "      <td>0.0</td>\n",
       "      <td>0.0</td>\n",
       "      <td>0.0</td>\n",
       "    </tr>\n",
       "  </tbody>\n",
       "</table>\n",
       "<p>5 rows × 394 columns</p>\n",
       "</div>"
      ],
      "text/plain": [
       "   TransactionID  isFraud  TransactionDT  TransactionAmt ProductCD  card1  \\\n",
       "0        2987000        0          86400            68.5         W  13926   \n",
       "1        2987001        0          86401            29.0         W   2755   \n",
       "2        2987002        0          86469            59.0         W   4663   \n",
       "3        2987003        0          86499            50.0         W  18132   \n",
       "4        2987004        0          86506            50.0         H   4497   \n",
       "\n",
       "   card2  card3       card4  card5  ... V330  V331  V332  V333  V334 V335  \\\n",
       "0    NaN  150.0    discover  142.0  ...  NaN   NaN   NaN   NaN   NaN  NaN   \n",
       "1  404.0  150.0  mastercard  102.0  ...  NaN   NaN   NaN   NaN   NaN  NaN   \n",
       "2  490.0  150.0        visa  166.0  ...  NaN   NaN   NaN   NaN   NaN  NaN   \n",
       "3  567.0  150.0  mastercard  117.0  ...  NaN   NaN   NaN   NaN   NaN  NaN   \n",
       "4  514.0  150.0  mastercard  102.0  ...  0.0   0.0   0.0   0.0   0.0  0.0   \n",
       "\n",
       "  V336  V337  V338  V339  \n",
       "0  NaN   NaN   NaN   NaN  \n",
       "1  NaN   NaN   NaN   NaN  \n",
       "2  NaN   NaN   NaN   NaN  \n",
       "3  NaN   NaN   NaN   NaN  \n",
       "4  0.0   0.0   0.0   0.0  \n",
       "\n",
       "[5 rows x 394 columns]"
      ]
     },
     "execution_count": 4,
     "metadata": {},
     "output_type": "execute_result"
    }
   ],
   "source": [
    "train_transaction.head()"
   ]
  },
  {
   "cell_type": "code",
   "execution_count": 5,
   "id": "02c9a495-bb48-42e7-a219-75c26c272794",
   "metadata": {},
   "outputs": [],
   "source": [
    "# list(train_transaction.columns)\n",
    "# list(train_identity.columns) - note \"DeviceType\" and \"DeviceInfo\""
   ]
  },
  {
   "cell_type": "code",
   "execution_count": 6,
   "id": "9b0b51e8-a8ca-4112-a19e-ab2df801b177",
   "metadata": {},
   "outputs": [
    {
     "data": {
      "text/html": [
       "<div>\n",
       "<style scoped>\n",
       "    .dataframe tbody tr th:only-of-type {\n",
       "        vertical-align: middle;\n",
       "    }\n",
       "\n",
       "    .dataframe tbody tr th {\n",
       "        vertical-align: top;\n",
       "    }\n",
       "\n",
       "    .dataframe thead th {\n",
       "        text-align: right;\n",
       "    }\n",
       "</style>\n",
       "<table border=\"1\" class=\"dataframe\">\n",
       "  <thead>\n",
       "    <tr style=\"text-align: right;\">\n",
       "      <th></th>\n",
       "      <th>TransactionID</th>\n",
       "      <th>id_01</th>\n",
       "      <th>id_02</th>\n",
       "      <th>id_03</th>\n",
       "      <th>id_04</th>\n",
       "      <th>id_05</th>\n",
       "      <th>id_06</th>\n",
       "      <th>id_07</th>\n",
       "      <th>id_08</th>\n",
       "      <th>id_09</th>\n",
       "      <th>...</th>\n",
       "      <th>id_31</th>\n",
       "      <th>id_32</th>\n",
       "      <th>id_33</th>\n",
       "      <th>id_34</th>\n",
       "      <th>id_35</th>\n",
       "      <th>id_36</th>\n",
       "      <th>id_37</th>\n",
       "      <th>id_38</th>\n",
       "      <th>DeviceType</th>\n",
       "      <th>DeviceInfo</th>\n",
       "    </tr>\n",
       "  </thead>\n",
       "  <tbody>\n",
       "    <tr>\n",
       "      <th>0</th>\n",
       "      <td>2987004</td>\n",
       "      <td>0.0</td>\n",
       "      <td>70787.0</td>\n",
       "      <td>NaN</td>\n",
       "      <td>NaN</td>\n",
       "      <td>NaN</td>\n",
       "      <td>NaN</td>\n",
       "      <td>NaN</td>\n",
       "      <td>NaN</td>\n",
       "      <td>NaN</td>\n",
       "      <td>...</td>\n",
       "      <td>samsung browser 6.2</td>\n",
       "      <td>32.0</td>\n",
       "      <td>2220x1080</td>\n",
       "      <td>match_status:2</td>\n",
       "      <td>T</td>\n",
       "      <td>F</td>\n",
       "      <td>T</td>\n",
       "      <td>T</td>\n",
       "      <td>mobile</td>\n",
       "      <td>SAMSUNG SM-G892A Build/NRD90M</td>\n",
       "    </tr>\n",
       "    <tr>\n",
       "      <th>1</th>\n",
       "      <td>2987008</td>\n",
       "      <td>-5.0</td>\n",
       "      <td>98945.0</td>\n",
       "      <td>NaN</td>\n",
       "      <td>NaN</td>\n",
       "      <td>0.0</td>\n",
       "      <td>-5.0</td>\n",
       "      <td>NaN</td>\n",
       "      <td>NaN</td>\n",
       "      <td>NaN</td>\n",
       "      <td>...</td>\n",
       "      <td>mobile safari 11.0</td>\n",
       "      <td>32.0</td>\n",
       "      <td>1334x750</td>\n",
       "      <td>match_status:1</td>\n",
       "      <td>T</td>\n",
       "      <td>F</td>\n",
       "      <td>F</td>\n",
       "      <td>T</td>\n",
       "      <td>mobile</td>\n",
       "      <td>iOS Device</td>\n",
       "    </tr>\n",
       "    <tr>\n",
       "      <th>2</th>\n",
       "      <td>2987010</td>\n",
       "      <td>-5.0</td>\n",
       "      <td>191631.0</td>\n",
       "      <td>0.0</td>\n",
       "      <td>0.0</td>\n",
       "      <td>0.0</td>\n",
       "      <td>0.0</td>\n",
       "      <td>NaN</td>\n",
       "      <td>NaN</td>\n",
       "      <td>0.0</td>\n",
       "      <td>...</td>\n",
       "      <td>chrome 62.0</td>\n",
       "      <td>NaN</td>\n",
       "      <td>NaN</td>\n",
       "      <td>NaN</td>\n",
       "      <td>F</td>\n",
       "      <td>F</td>\n",
       "      <td>T</td>\n",
       "      <td>T</td>\n",
       "      <td>desktop</td>\n",
       "      <td>Windows</td>\n",
       "    </tr>\n",
       "    <tr>\n",
       "      <th>3</th>\n",
       "      <td>2987011</td>\n",
       "      <td>-5.0</td>\n",
       "      <td>221832.0</td>\n",
       "      <td>NaN</td>\n",
       "      <td>NaN</td>\n",
       "      <td>0.0</td>\n",
       "      <td>-6.0</td>\n",
       "      <td>NaN</td>\n",
       "      <td>NaN</td>\n",
       "      <td>NaN</td>\n",
       "      <td>...</td>\n",
       "      <td>chrome 62.0</td>\n",
       "      <td>NaN</td>\n",
       "      <td>NaN</td>\n",
       "      <td>NaN</td>\n",
       "      <td>F</td>\n",
       "      <td>F</td>\n",
       "      <td>T</td>\n",
       "      <td>T</td>\n",
       "      <td>desktop</td>\n",
       "      <td>NaN</td>\n",
       "    </tr>\n",
       "    <tr>\n",
       "      <th>4</th>\n",
       "      <td>2987016</td>\n",
       "      <td>0.0</td>\n",
       "      <td>7460.0</td>\n",
       "      <td>0.0</td>\n",
       "      <td>0.0</td>\n",
       "      <td>1.0</td>\n",
       "      <td>0.0</td>\n",
       "      <td>NaN</td>\n",
       "      <td>NaN</td>\n",
       "      <td>0.0</td>\n",
       "      <td>...</td>\n",
       "      <td>chrome 62.0</td>\n",
       "      <td>24.0</td>\n",
       "      <td>1280x800</td>\n",
       "      <td>match_status:2</td>\n",
       "      <td>T</td>\n",
       "      <td>F</td>\n",
       "      <td>T</td>\n",
       "      <td>T</td>\n",
       "      <td>desktop</td>\n",
       "      <td>MacOS</td>\n",
       "    </tr>\n",
       "  </tbody>\n",
       "</table>\n",
       "<p>5 rows × 41 columns</p>\n",
       "</div>"
      ],
      "text/plain": [
       "   TransactionID  id_01     id_02  id_03  id_04  id_05  id_06  id_07  id_08  \\\n",
       "0        2987004    0.0   70787.0    NaN    NaN    NaN    NaN    NaN    NaN   \n",
       "1        2987008   -5.0   98945.0    NaN    NaN    0.0   -5.0    NaN    NaN   \n",
       "2        2987010   -5.0  191631.0    0.0    0.0    0.0    0.0    NaN    NaN   \n",
       "3        2987011   -5.0  221832.0    NaN    NaN    0.0   -6.0    NaN    NaN   \n",
       "4        2987016    0.0    7460.0    0.0    0.0    1.0    0.0    NaN    NaN   \n",
       "\n",
       "   id_09  ...                id_31  id_32      id_33           id_34  id_35  \\\n",
       "0    NaN  ...  samsung browser 6.2   32.0  2220x1080  match_status:2      T   \n",
       "1    NaN  ...   mobile safari 11.0   32.0   1334x750  match_status:1      T   \n",
       "2    0.0  ...          chrome 62.0    NaN        NaN             NaN      F   \n",
       "3    NaN  ...          chrome 62.0    NaN        NaN             NaN      F   \n",
       "4    0.0  ...          chrome 62.0   24.0   1280x800  match_status:2      T   \n",
       "\n",
       "  id_36 id_37  id_38  DeviceType                     DeviceInfo  \n",
       "0     F     T      T      mobile  SAMSUNG SM-G892A Build/NRD90M  \n",
       "1     F     F      T      mobile                     iOS Device  \n",
       "2     F     T      T     desktop                        Windows  \n",
       "3     F     T      T     desktop                            NaN  \n",
       "4     F     T      T     desktop                          MacOS  \n",
       "\n",
       "[5 rows x 41 columns]"
      ]
     },
     "execution_count": 6,
     "metadata": {},
     "output_type": "execute_result"
    }
   ],
   "source": [
    "train_identity.head()"
   ]
  },
  {
   "cell_type": "markdown",
   "id": "55ca158a-4ff3-481d-8c16-f86184f6412e",
   "metadata": {},
   "source": [
    "### 1.2 Exam the link between transaction and identity data"
   ]
  },
  {
   "cell_type": "code",
   "execution_count": 7,
   "id": "9fc8d8d2-021e-4085-aab3-bcd8507ba722",
   "metadata": {},
   "outputs": [
    {
     "name": "stdout",
     "output_type": "stream",
     "text": [
      "144233\n",
      "141907\n"
     ]
    }
   ],
   "source": [
    "# Here we confirm that all of the transactions in `train_identity`\n",
    "print(np.sum(train_transaction['TransactionID'].isin(train_identity['TransactionID'].unique())))\n",
    "print(np.sum(test_transaction['TransactionID'].isin(test_identity['TransactionID'].unique())))"
   ]
  },
  {
   "cell_type": "markdown",
   "id": "8f7fc4ba-b213-487c-b6b2-8a777133beda",
   "metadata": {},
   "source": [
    "24.4% of TransactionIDs in train (144233 / 590540) have an associated train_identity.  \n",
    "28.0% of TransactionIDs in test (144233 / 590540) have an associated train_identity."
   ]
  },
  {
   "cell_type": "markdown",
   "id": "3c94daf9-8f22-496f-acd6-8b5d68574e6a",
   "metadata": {},
   "source": [
    "This indicates that not all transactions have corresponding identity information."
   ]
  },
  {
   "cell_type": "markdown",
   "id": "bcd89172-4a6d-431e-9ed5-9541602ccb99",
   "metadata": {},
   "source": [
    "### 1.3 Data Split on \"TransactionDT\" (Time Series)"
   ]
  },
  {
   "cell_type": "code",
   "execution_count": 20,
   "id": "bd04add1-6a3c-41ad-a9f3-195eb67b3ee1",
   "metadata": {},
   "outputs": [
    {
     "data": {
      "image/png": "[encoded data removed]",
      "text/plain": [
       "<Figure size 1440x360 with 1 Axes>"
      ]
     },
     "metadata": {},
     "output_type": "display_data"
    }
   ],
   "source": [
    "train_transaction['TransactionDT'].plot(kind='hist',\n",
    "                                        figsize=(20, 5),\n",
    "                                        label='train',\n",
    "                                        bins=50,\n",
    "                                        title='Train vs Test TransactionDT distribution')\n",
    "test_transaction['TransactionDT'].plot(kind='hist',\n",
    "                                       label='test',\n",
    "                                       bins=50)\n",
    "plt.legend()\n",
    "plt.show()"
   ]
  },
  {
   "cell_type": "markdown",
   "id": "f7fdffce-5662-4a2f-917f-f1284461a16c",
   "metadata": {},
   "source": [
    "We can see that train and test data are split by transactionDT. The TransactionDT feature is a timedelta from a given reference datetime (not an actual timestamp). One early discovery about the data is that the train and test appear to be split by time. There is a slight gap inbetween, but otherwise the training set is from an earlier period of time and test is from a later period of time. This will impact which cross validation techniques should be used.\n",
    "\n",
    "We will look into this more when reviewing differences in distribution of features between train and test."
   ]
  },
  {
   "cell_type": "markdown",
   "id": "beb11fee-4e62-4163-a740-be4cb5c887a3",
   "metadata": {},
   "source": [
    "### 1.4 Target Distribution"
   ]
  },
  {
   "cell_type": "code",
   "execution_count": 9,
   "id": "cdf716c4-7798-441b-8b5a-79e0f935b9b8",
   "metadata": {},
   "outputs": [
    {
     "data": {
      "text/plain": [
       "0    0.96501\n",
       "1    0.03499\n",
       "Name: isFraud, dtype: float64"
      ]
     },
     "execution_count": 9,
     "metadata": {},
     "output_type": "execute_result"
    }
   ],
   "source": [
    "#Check class imbalance\n",
    "\n",
    "train_transaction['isFraud'].value_counts(normalize=True)"
   ]
  },
  {
   "cell_type": "code",
   "execution_count": 10,
   "id": "da031cd3-a62c-4f69-b7f9-d8f3fceaa91d",
   "metadata": {},
   "outputs": [
    {
     "data": {
      "image/png": "[encoded data removed]",
      "text/plain": [
       "<Figure size 1080x216 with 1 Axes>"
      ]
     },
     "metadata": {},
     "output_type": "display_data"
    }
   ],
   "source": [
    "train_transaction.groupby('isFraud') \\\n",
    "    .count()['TransactionID'] \\\n",
    "    .plot(kind='bar',\n",
    "          title='Distribution of isFraud in Train Data',\n",
    "          figsize=(15, 3))\n",
    "plt.show()"
   ]
  },
  {
   "cell_type": "markdown",
   "id": "e75e1683-c7b0-44b6-b429-de278752f750",
   "metadata": {},
   "source": [
    "Heavily imbalanced class (as expected in most fraud detection cases)"
   ]
  },
  {
   "cell_type": "markdown",
   "id": "47b3ad5b-fe51-48e6-a4c6-807abd5fda32",
   "metadata": {},
   "source": [
    "### 1.5 TransactionAmt"
   ]
  },
  {
   "cell_type": "code",
   "execution_count": 11,
   "id": "c2c6ef54-937e-4bab-a0c7-be2ed638810a",
   "metadata": {},
   "outputs": [
    {
     "data": {
      "image/png": "[encoded data removed]",
      "text/plain": [
       "<Figure size 1080x360 with 1 Axes>"
      ]
     },
     "metadata": {},
     "output_type": "display_data"
    }
   ],
   "source": [
    "train_transaction.groupby(\"isFraud\")[\"TransactionAmt\"].apply(np.log).plot(kind='hist',\n",
    "          bins=100,\n",
    "          figsize=(15, 5),\n",
    "          title='Distribution of Log Transaction Amt');"
   ]
  },
  {
   "cell_type": "code",
   "execution_count": 12,
   "id": "b6e2e232-499e-4bf4-a103-476f8df592e4",
   "metadata": {},
   "outputs": [
    {
     "data": {
      "text/html": [
       "<div>\n",
       "<style scoped>\n",
       "    .dataframe tbody tr th:only-of-type {\n",
       "        vertical-align: middle;\n",
       "    }\n",
       "\n",
       "    .dataframe tbody tr th {\n",
       "        vertical-align: top;\n",
       "    }\n",
       "\n",
       "    .dataframe thead th {\n",
       "        text-align: right;\n",
       "    }\n",
       "</style>\n",
       "<table border=\"1\" class=\"dataframe\">\n",
       "  <thead>\n",
       "    <tr style=\"text-align: right;\">\n",
       "      <th></th>\n",
       "      <th>count</th>\n",
       "      <th>mean</th>\n",
       "      <th>std</th>\n",
       "      <th>min</th>\n",
       "      <th>25%</th>\n",
       "      <th>50%</th>\n",
       "      <th>75%</th>\n",
       "      <th>max</th>\n",
       "    </tr>\n",
       "    <tr>\n",
       "      <th>isFraud</th>\n",
       "      <th></th>\n",
       "      <th></th>\n",
       "      <th></th>\n",
       "      <th></th>\n",
       "      <th></th>\n",
       "      <th></th>\n",
       "      <th></th>\n",
       "      <th></th>\n",
       "    </tr>\n",
       "  </thead>\n",
       "  <tbody>\n",
       "    <tr>\n",
       "      <th>0</th>\n",
       "      <td>569877.0</td>\n",
       "      <td>134.511665</td>\n",
       "      <td>239.395078</td>\n",
       "      <td>0.251</td>\n",
       "      <td>43.970</td>\n",
       "      <td>68.5</td>\n",
       "      <td>120.0</td>\n",
       "      <td>31937.391</td>\n",
       "    </tr>\n",
       "    <tr>\n",
       "      <th>1</th>\n",
       "      <td>20663.0</td>\n",
       "      <td>149.244779</td>\n",
       "      <td>232.212163</td>\n",
       "      <td>0.292</td>\n",
       "      <td>35.044</td>\n",
       "      <td>75.0</td>\n",
       "      <td>161.0</td>\n",
       "      <td>5191.000</td>\n",
       "    </tr>\n",
       "  </tbody>\n",
       "</table>\n",
       "</div>"
      ],
      "text/plain": [
       "            count        mean         std    min     25%   50%    75%  \\\n",
       "isFraud                                                                 \n",
       "0        569877.0  134.511665  239.395078  0.251  43.970  68.5  120.0   \n",
       "1         20663.0  149.244779  232.212163  0.292  35.044  75.0  161.0   \n",
       "\n",
       "               max  \n",
       "isFraud             \n",
       "0        31937.391  \n",
       "1         5191.000  "
      ]
     },
     "execution_count": 12,
     "metadata": {},
     "output_type": "execute_result"
    }
   ],
   "source": [
    "train_transaction.groupby(\"isFraud\")[\"TransactionAmt\"].describe()"
   ]
  },
  {
   "cell_type": "markdown",
   "id": "46b6906e-b5ed-48cc-a4f5-db7fb99aa318",
   "metadata": {},
   "source": [
    "Normal distribution in transaction amount with similar mean (with fraud tranx to be slightly higher) and std (fraud is slightly lower) between fraud and non-fruad transaction.  \n",
    "\n",
    "Fraud transactions have been overlapped by non-fraud so let's look at them separately. \n",
    "\n",
    "The transaction amounts are heavily skewed in distribution so I will try using log transformation to make it conform to normal distribution. \n",
    "\n",
    "Note, because of the log transfrom, any values between 0 and 1 will appear to be negative."
   ]
  },
  {
   "cell_type": "code",
   "execution_count": 13,
   "id": "644d7859-752b-44d2-bc4a-65beedb4d932",
   "metadata": {},
   "outputs": [
    {
     "data": {
      "image/png": "[encoded data removed]",
      "text/plain": [
       "<Figure size 1080x432 with 4 Axes>"
      ]
     },
     "metadata": {},
     "output_type": "display_data"
    }
   ],
   "source": [
    "fig, ((ax1, ax2), (ax3, ax4)) = plt.subplots(2, 2, figsize=(15, 6))\n",
    "\n",
    "train_transaction.loc[train_transaction['isFraud'] == 1]['TransactionAmt'].apply(np.log).plot(\n",
    "    kind='hist',\n",
    "    bins=100,\n",
    "    title='Log Transaction Amt - Fraud',\n",
    "    color=color_pal[1],\n",
    "    xlim=(-3, 10),\n",
    "    ax= ax1)\n",
    "\n",
    "train_transaction.loc[train_transaction['isFraud'] == 0]['TransactionAmt'].apply(np.log).plot(\n",
    "    kind='hist',\n",
    "    bins=100,\n",
    "    title='Log Transaction Amt - non-Fraud',\n",
    "    color=color_pal[2],\n",
    "    xlim=(-3, 10),\n",
    "    ax= ax2)\n",
    "\n",
    "train_transaction.loc[train_transaction['isFraud'] == 1]['TransactionAmt'].plot(\n",
    "    kind='hist',\n",
    "    bins=100,\n",
    "    title='Transaction Amt - Fraud',\n",
    "    color=color_pal[1],\n",
    "    ax= ax3)\n",
    "\n",
    "train_transaction.loc[train_transaction['isFraud'] == 0]['TransactionAmt'].plot(\n",
    "    kind='hist',\n",
    "    bins=100,\n",
    "    title='Transaction Amt - non-Fraud',\n",
    "    color=color_pal[2],\n",
    "    ax= ax4)\n",
    "plt.show()"
   ]
  },
  {
   "cell_type": "markdown",
   "id": "4feb9449-25e8-48f0-b457-e985aee80cf1",
   "metadata": {},
   "source": [
    "### 1.7 Categorical Features - Transaction\n",
    "\n",
    "\n",
    "As described in project page [here](https://www.kaggle.com/c/ieee-fraud-detection/data), the following features are categorical. \n",
    "\n",
    "- ProductCD\n",
    "- P_emaildomain\n",
    "- R_emaildomain\n",
    "- card1 - card6\n",
    "- addr1, addr2\n",
    "- M1 - M9\n",
    "\n",
    "Let's take a look at these now."
   ]
  },
  {
   "cell_type": "markdown",
   "id": "db1b61a4-48d2-4a0c-a6ab-91b06bbe3733",
   "metadata": {},
   "source": [
    "#### 1.7.1 ProductCD\n",
    "\n",
    "We don't exactly know what each values stands for so we will look at its relation with target value. "
   ]
  },
  {
   "cell_type": "code",
   "execution_count": 22,
   "id": "393e5cd1-2e4e-4766-ad99-c4a1e3008586",
   "metadata": {},
   "outputs": [
    {
     "data": {
      "text/plain": [
       "W    0.744522\n",
       "C    0.116028\n",
       "R    0.063838\n",
       "H    0.055922\n",
       "S    0.019690\n",
       "Name: ProductCD, dtype: float64"
      ]
     },
     "execution_count": 22,
     "metadata": {},
     "output_type": "execute_result"
    }
   ],
   "source": [
    "train_transaction[\"ProductCD\"].value_counts(normalize=True)"
   ]
  },
  {
   "cell_type": "code",
   "execution_count": 21,
   "id": "0a588a48-9c98-4e85-bc47-9b7ee336d7d3",
   "metadata": {},
   "outputs": [
    {
     "data": {
      "text/plain": [
       "W    430701\n",
       "C     60511\n",
       "R     36273\n",
       "H     31450\n",
       "S     10942\n",
       "Name: ProductCD, dtype: int64"
      ]
     },
     "execution_count": 21,
     "metadata": {},
     "output_type": "execute_result"
    }
   ],
   "source": [
    "train_transaction.loc[train_transaction['isFraud']==1][\"ProductCD\"].value_counts()"
   ]
  },
  {
   "cell_type": "code",
   "execution_count": 16,
   "id": "41a4a01d-dd0f-4ef1-854b-331368facd3a",
   "metadata": {},
   "outputs": [
    {
     "data": {
      "image/png": "[encoded data removed]",
      "text/plain": [
       "<Figure size 1080x216 with 1 Axes>"
      ]
     },
     "metadata": {},
     "output_type": "display_data"
    }
   ],
   "source": [
    "train_transaction.groupby('ProductCD')['TransactionID'].count().sort_index().plot(\n",
    "    kind='barh',\n",
    "    figsize=(15, 3),\n",
    "    title='Count of Observations by ProductCD')\n",
    "plt.show()"
   ]
  },
  {
   "cell_type": "code",
   "execution_count": 24,
   "id": "5f6f1da9-e2d6-449c-8f08-c8f4ddfb1e11",
   "metadata": {},
   "outputs": [
    {
     "data": {
      "image/png": "[encoded data removed]",
      "text/plain": [
       "<Figure size 1080x216 with 1 Axes>"
      ]
     },
     "metadata": {},
     "output_type": "display_data"
    }
   ],
   "source": [
    "train_transaction.groupby('ProductCD')['isFraud'].mean().sort_index().plot(\n",
    "    kind='barh',\n",
    "    figsize=(15, 3),\n",
    "    title='Count of Observations by ProductCD')\n",
    "plt.show()"
   ]
  },
  {
   "cell_type": "markdown",
   "id": "9082589c-be78-4545-924d-83f5b4ee9f47",
   "metadata": {},
   "source": [
    "What we can see here is that transactions with ProductCD with \"C\" and \"S\" have higher % of fraud target. "
   ]
  },
  {
   "cell_type": "markdown",
   "id": "3051aa91-fed6-43d7-92d6-2788ccb969ad",
   "metadata": {},
   "source": [
    "#### 1.7.2 Emaildomain  'P_emaildomain' and 'R_emaildomain'"
   ]
  },
  {
   "cell_type": "code",
   "execution_count": 30,
   "id": "1be24d00-a022-4a4d-b3b9-735f85f27eb0",
   "metadata": {},
   "outputs": [
    {
     "data": {
      "text/plain": [
       "['P_emaildomain', 'R_emaildomain']"
      ]
     },
     "execution_count": 30,
     "metadata": {},
     "output_type": "execute_result"
    }
   ],
   "source": [
    "[col for col in train_transaction.columns if 'email' in col]"
   ]
  },
  {
   "cell_type": "code",
   "execution_count": 52,
   "id": "3dd02adf-9aaa-45aa-93ac-cc481b18a5eb",
   "metadata": {},
   "outputs": [
    {
     "data": {
      "text/plain": [
       "array([nan, 'gmail.com', 'outlook.com', 'yahoo.com', 'mail.com',\n",
       "       'anonymous.com', 'hotmail.com', 'verizon.net', 'aol.com', 'me.com',\n",
       "       'comcast.net', 'optonline.net', 'cox.net', 'charter.net',\n",
       "       'rocketmail.com', 'prodigy.net.mx', 'embarqmail.com', 'icloud.com',\n",
       "       'live.com.mx', 'gmail', 'live.com', 'att.net', 'juno.com',\n",
       "       'ymail.com', 'sbcglobal.net', 'bellsouth.net', 'msn.com', 'q.com',\n",
       "       'yahoo.com.mx', 'centurylink.net', 'servicios-ta.com',\n",
       "       'earthlink.net', 'hotmail.es', 'cfl.rr.com', 'roadrunner.com',\n",
       "       'netzero.net', 'gmx.de', 'suddenlink.net', 'frontiernet.net',\n",
       "       'windstream.net', 'frontier.com', 'outlook.es', 'mac.com',\n",
       "       'netzero.com', 'aim.com', 'web.de', 'twc.com', 'cableone.net',\n",
       "       'yahoo.fr', 'yahoo.de', 'yahoo.es', 'sc.rr.com', 'ptd.net',\n",
       "       'live.fr', 'yahoo.co.uk', 'hotmail.fr', 'hotmail.de',\n",
       "       'hotmail.co.uk', 'protonmail.com', 'yahoo.co.jp'], dtype=object)"
      ]
     },
     "execution_count": 52,
     "metadata": {},
     "output_type": "execute_result"
    }
   ],
   "source": [
    "p_email_domain = train_transaction['P_emaildomain'].unique()\n",
    "p_email_domain"
   ]
  },
  {
   "cell_type": "code",
   "execution_count": 51,
   "id": "1ed55b31-8f63-4e4d-9c55-a63ec45ed2a8",
   "metadata": {},
   "outputs": [
    {
     "data": {
      "text/plain": [
       "array([nan, 'gmail.com', 'hotmail.com', 'outlook.com', 'anonymous.com',\n",
       "       'charter.net', 'prodigy.net.mx', 'comcast.net', 'live.com.mx',\n",
       "       'icloud.com', 'yahoo.com', 'aol.com', 'juno.com', 'att.net',\n",
       "       'verizon.net', 'yahoo.com.mx', 'bellsouth.net', 'servicios-ta.com',\n",
       "       'ymail.com', 'hotmail.es', 'msn.com', 'optonline.net', 'live.com',\n",
       "       'gmx.de', 'aim.com', 'mail.com', 'me.com', 'outlook.es', 'cox.net',\n",
       "       'earthlink.net', 'embarqmail.com', 'web.de', 'sbcglobal.net',\n",
       "       'scranton.edu', 'mac.com', 'twc.com', 'roadrunner.com', 'yahoo.fr',\n",
       "       'yahoo.de', 'yahoo.es', 'frontiernet.net', 'gmail', 'live.fr',\n",
       "       'q.com', 'yahoo.co.uk', 'windstream.net', 'suddenlink.net',\n",
       "       'hotmail.fr', 'ptd.net', 'hotmail.de', 'frontier.com',\n",
       "       'cfl.rr.com', 'hotmail.co.uk', 'netzero.com', 'netzero.net',\n",
       "       'yahoo.co.jp', 'rocketmail.com', 'centurylink.net',\n",
       "       'protonmail.com', 'cableone.net', 'sc.rr.com'], dtype=object)"
      ]
     },
     "execution_count": 51,
     "metadata": {},
     "output_type": "execute_result"
    }
   ],
   "source": [
    "r_email_domain = train_transaction['R_emaildomain'].unique()\n",
    "r_email_domain"
   ]
  },
  {
   "cell_type": "markdown",
   "id": "ee09fa5f-64aa-405b-8dec-e8dcaf71559c",
   "metadata": {},
   "source": [
    "There are duplicate values with different spelling so I will create a dictionary to map the values and clean the data of these two features."
   ]
  },
  {
   "cell_type": "code",
   "execution_count": 58,
   "id": "4d7d53ef-2ccc-4157-8fde-5ebad6d62ad6",
   "metadata": {},
   "outputs": [
    {
     "data": {
      "text/plain": [
       "array([nan, 'gmail.com', 'outlook.com', 'yahoo.com', 'mail.com',\n",
       "       'anonymous.com', 'hotmail.com', 'verizon.net', 'aol.com', 'me.com',\n",
       "       'comcast.net', 'optonline.net', 'cox.net', 'charter.net',\n",
       "       'rocketmail.com', 'prodigy.net.mx', 'embarqmail.com', 'icloud.com',\n",
       "       'live.com.mx', 'gmail', 'live.com', 'att.net', 'juno.com',\n",
       "       'ymail.com', 'sbcglobal.net', 'bellsouth.net', 'msn.com', 'q.com',\n",
       "       'yahoo.com.mx', 'centurylink.net', 'servicios-ta.com',\n",
       "       'earthlink.net', 'hotmail.es', 'cfl.rr.com', 'roadrunner.com',\n",
       "       'netzero.net', 'gmx.de', 'suddenlink.net', 'frontiernet.net',\n",
       "       'windstream.net', 'frontier.com', 'outlook.es', 'mac.com',\n",
       "       'netzero.com', 'aim.com', 'web.de', 'twc.com', 'cableone.net',\n",
       "       'yahoo.fr', 'yahoo.de', 'yahoo.es', 'sc.rr.com', 'ptd.net',\n",
       "       'live.fr', 'yahoo.co.uk', 'hotmail.fr', 'hotmail.de',\n",
       "       'hotmail.co.uk', 'protonmail.com', 'yahoo.co.jp', nan,\n",
       "       'scranton.edu'], dtype=object)"
      ]
     },
     "execution_count": 58,
     "metadata": {},
     "output_type": "execute_result"
    }
   ],
   "source": [
    "combined_unique_email = np.concatenate([p_email_domain, r_email_domain[~np.isin(r_email_domain,p_email_domain)]])\n",
    "combined_unique_email"
   ]
  },
  {
   "cell_type": "code",
   "execution_count": 86,
   "id": "b909ec66-ff2e-460f-ba53-bbbe9658285e",
   "metadata": {},
   "outputs": [],
   "source": [
    "emails = {'gmail': 'google', 'att.net': 'att', 'twc.com': 'spectrum', \\\n",
    "          'scranton.edu': 'other', 'optonline.net': 'other', 'hotmail.co.uk': 'microsoft', \\\n",
    "          'comcast.net': 'other', 'yahoo.com.mx': 'yahoo', 'yahoo.fr': 'yahoo', 'yahoo.es': 'yahoo', \\\n",
    "          'charter.net': 'spectrum', 'live.com': 'microsoft', 'aim.com': 'aol', 'hotmail.de': 'microsoft', \\\n",
    "          'centurylink.net': 'centurylink', 'gmail.com': 'google', 'me.com': 'apple', 'earthlink.net': 'other', \\\n",
    "          'gmx.de': 'other', 'web.de': 'other', 'cfl.rr.com': 'other', 'hotmail.com': 'microsoft', \\\n",
    "          'protonmail.com': 'other', 'hotmail.fr': 'microsoft', 'windstream.net': 'other', 'outlook.es': 'microsoft', \\\n",
    "          'yahoo.co.jp': 'yahoo', 'yahoo.de': 'yahoo', 'servicios-ta.com': 'other', 'netzero.net': 'other', \\\n",
    "          'suddenlink.net': 'other', 'roadrunner.com': 'other', 'sc.rr.com': 'other', 'live.fr': 'microsoft', \\\n",
    "          'verizon.net': 'yahoo', 'msn.com': 'microsoft', 'q.com': 'centurylink', 'prodigy.net.mx': 'att', \\\n",
    "          'frontier.com': 'yahoo', 'anonymous.com': 'other', 'rocketmail.com': 'yahoo', 'sbcglobal.net': 'att', \\\n",
    "          'frontiernet.net': 'yahoo', 'ymail.com': 'yahoo', 'outlook.com': 'microsoft', 'mail.com': 'other', \\\n",
    "          'bellsouth.net': 'other', 'embarqmail.com': 'centurylink', 'cableone.net': 'other', 'hotmail.es': 'microsoft', \\\n",
    "          'mac.com': 'apple', 'yahoo.co.uk': 'yahoo', 'netzero.com': 'other', 'yahoo.com': 'yahoo', \\\n",
    "          'live.com.mx': 'microsoft', 'ptd.net': 'other', 'cox.net': 'other', 'aol.com': 'aol', 'juno.com': 'other', \\\n",
    "          'icloud.com': 'apple'}\n",
    "us_emails = ['gmail', 'net', 'edu']"
   ]
  },
  {
   "cell_type": "code",
   "execution_count": 87,
   "id": "76c01b71-73af-4dc3-b3d6-2f0b1376fa32",
   "metadata": {},
   "outputs": [],
   "source": [
    "for c in ['P_emaildomain', 'R_emaildomain']:\n",
    "    train_transaction[c + '_bin'] = train_transaction[c].map(emails)\n",
    "    test_transaction[c + '_bin'] = test_transaction[c].map(emails)\n",
    "    \n",
    "    train_transaction[c + '_suffix'] = train_transaction[c].map(lambda x: str(x).split('.')[-1])\n",
    "    test_transaction[c + '_suffix'] = test_transaction[c].map(lambda x: str(x).split('.')[-1])\n",
    "    \n",
    "    train_transaction[c + '_suffix'] = train_transaction[c + '_suffix'].map(lambda x: x if str(x) not in us_emails else 'us')\n",
    "    test_transaction[c + '_suffix'] = test_transaction[c + '_suffix'].map(lambda x: x if str(x) not in us_emails else 'us')"
   ]
  },
  {
   "cell_type": "code",
   "execution_count": 89,
   "id": "c889db65-c1f6-4060-9fa1-2539a984bf88",
   "metadata": {},
   "outputs": [
    {
     "data": {
      "text/html": [
       "<div>\n",
       "<style scoped>\n",
       "    .dataframe tbody tr th:only-of-type {\n",
       "        vertical-align: middle;\n",
       "    }\n",
       "\n",
       "    .dataframe tbody tr th {\n",
       "        vertical-align: top;\n",
       "    }\n",
       "\n",
       "    .dataframe thead th {\n",
       "        text-align: right;\n",
       "    }\n",
       "</style>\n",
       "<table border=\"1\" class=\"dataframe\">\n",
       "  <thead>\n",
       "    <tr style=\"text-align: right;\">\n",
       "      <th></th>\n",
       "      <th>TransactionID</th>\n",
       "      <th>isFraud</th>\n",
       "      <th>TransactionDT</th>\n",
       "      <th>TransactionAmt</th>\n",
       "      <th>ProductCD</th>\n",
       "      <th>card1</th>\n",
       "      <th>card2</th>\n",
       "      <th>card3</th>\n",
       "      <th>card4</th>\n",
       "      <th>card5</th>\n",
       "      <th>...</th>\n",
       "      <th>V334</th>\n",
       "      <th>V335</th>\n",
       "      <th>V336</th>\n",
       "      <th>V337</th>\n",
       "      <th>V338</th>\n",
       "      <th>V339</th>\n",
       "      <th>P_emaildomain_bin</th>\n",
       "      <th>P_emaildomain_suffix</th>\n",
       "      <th>R_emaildomain_bin</th>\n",
       "      <th>R_emaildomain_suffix</th>\n",
       "    </tr>\n",
       "  </thead>\n",
       "  <tbody>\n",
       "    <tr>\n",
       "      <th>0</th>\n",
       "      <td>2987000</td>\n",
       "      <td>0</td>\n",
       "      <td>86400</td>\n",
       "      <td>68.5</td>\n",
       "      <td>W</td>\n",
       "      <td>13926</td>\n",
       "      <td>NaN</td>\n",
       "      <td>150.0</td>\n",
       "      <td>discover</td>\n",
       "      <td>142.0</td>\n",
       "      <td>...</td>\n",
       "      <td>NaN</td>\n",
       "      <td>NaN</td>\n",
       "      <td>NaN</td>\n",
       "      <td>NaN</td>\n",
       "      <td>NaN</td>\n",
       "      <td>NaN</td>\n",
       "      <td>NaN</td>\n",
       "      <td>nan</td>\n",
       "      <td>NaN</td>\n",
       "      <td>nan</td>\n",
       "    </tr>\n",
       "    <tr>\n",
       "      <th>1</th>\n",
       "      <td>2987001</td>\n",
       "      <td>0</td>\n",
       "      <td>86401</td>\n",
       "      <td>29.0</td>\n",
       "      <td>W</td>\n",
       "      <td>2755</td>\n",
       "      <td>404.0</td>\n",
       "      <td>150.0</td>\n",
       "      <td>mastercard</td>\n",
       "      <td>102.0</td>\n",
       "      <td>...</td>\n",
       "      <td>NaN</td>\n",
       "      <td>NaN</td>\n",
       "      <td>NaN</td>\n",
       "      <td>NaN</td>\n",
       "      <td>NaN</td>\n",
       "      <td>NaN</td>\n",
       "      <td>google</td>\n",
       "      <td>com</td>\n",
       "      <td>NaN</td>\n",
       "      <td>nan</td>\n",
       "    </tr>\n",
       "    <tr>\n",
       "      <th>2</th>\n",
       "      <td>2987002</td>\n",
       "      <td>0</td>\n",
       "      <td>86469</td>\n",
       "      <td>59.0</td>\n",
       "      <td>W</td>\n",
       "      <td>4663</td>\n",
       "      <td>490.0</td>\n",
       "      <td>150.0</td>\n",
       "      <td>visa</td>\n",
       "      <td>166.0</td>\n",
       "      <td>...</td>\n",
       "      <td>NaN</td>\n",
       "      <td>NaN</td>\n",
       "      <td>NaN</td>\n",
       "      <td>NaN</td>\n",
       "      <td>NaN</td>\n",
       "      <td>NaN</td>\n",
       "      <td>microsoft</td>\n",
       "      <td>com</td>\n",
       "      <td>NaN</td>\n",
       "      <td>nan</td>\n",
       "    </tr>\n",
       "    <tr>\n",
       "      <th>3</th>\n",
       "      <td>2987003</td>\n",
       "      <td>0</td>\n",
       "      <td>86499</td>\n",
       "      <td>50.0</td>\n",
       "      <td>W</td>\n",
       "      <td>18132</td>\n",
       "      <td>567.0</td>\n",
       "      <td>150.0</td>\n",
       "      <td>mastercard</td>\n",
       "      <td>117.0</td>\n",
       "      <td>...</td>\n",
       "      <td>NaN</td>\n",
       "      <td>NaN</td>\n",
       "      <td>NaN</td>\n",
       "      <td>NaN</td>\n",
       "      <td>NaN</td>\n",
       "      <td>NaN</td>\n",
       "      <td>yahoo</td>\n",
       "      <td>com</td>\n",
       "      <td>NaN</td>\n",
       "      <td>nan</td>\n",
       "    </tr>\n",
       "    <tr>\n",
       "      <th>4</th>\n",
       "      <td>2987004</td>\n",
       "      <td>0</td>\n",
       "      <td>86506</td>\n",
       "      <td>50.0</td>\n",
       "      <td>H</td>\n",
       "      <td>4497</td>\n",
       "      <td>514.0</td>\n",
       "      <td>150.0</td>\n",
       "      <td>mastercard</td>\n",
       "      <td>102.0</td>\n",
       "      <td>...</td>\n",
       "      <td>0.0</td>\n",
       "      <td>0.0</td>\n",
       "      <td>0.0</td>\n",
       "      <td>0.0</td>\n",
       "      <td>0.0</td>\n",
       "      <td>0.0</td>\n",
       "      <td>google</td>\n",
       "      <td>com</td>\n",
       "      <td>NaN</td>\n",
       "      <td>nan</td>\n",
       "    </tr>\n",
       "  </tbody>\n",
       "</table>\n",
       "<p>5 rows × 398 columns</p>\n",
       "</div>"
      ],
      "text/plain": [
       "   TransactionID  isFraud  TransactionDT  TransactionAmt ProductCD  card1  \\\n",
       "0        2987000        0          86400            68.5         W  13926   \n",
       "1        2987001        0          86401            29.0         W   2755   \n",
       "2        2987002        0          86469            59.0         W   4663   \n",
       "3        2987003        0          86499            50.0         W  18132   \n",
       "4        2987004        0          86506            50.0         H   4497   \n",
       "\n",
       "   card2  card3       card4  card5  ... V334  V335  V336  V337  V338 V339  \\\n",
       "0    NaN  150.0    discover  142.0  ...  NaN   NaN   NaN   NaN   NaN  NaN   \n",
       "1  404.0  150.0  mastercard  102.0  ...  NaN   NaN   NaN   NaN   NaN  NaN   \n",
       "2  490.0  150.0        visa  166.0  ...  NaN   NaN   NaN   NaN   NaN  NaN   \n",
       "3  567.0  150.0  mastercard  117.0  ...  NaN   NaN   NaN   NaN   NaN  NaN   \n",
       "4  514.0  150.0  mastercard  102.0  ...  0.0   0.0   0.0   0.0   0.0  0.0   \n",
       "\n",
       "  P_emaildomain_bin  P_emaildomain_suffix  R_emaildomain_bin  \\\n",
       "0               NaN                   nan                NaN   \n",
       "1            google                   com                NaN   \n",
       "2         microsoft                   com                NaN   \n",
       "3             yahoo                   com                NaN   \n",
       "4            google                   com                NaN   \n",
       "\n",
       "   R_emaildomain_suffix  \n",
       "0                   nan  \n",
       "1                   nan  \n",
       "2                   nan  \n",
       "3                   nan  \n",
       "4                   nan  \n",
       "\n",
       "[5 rows x 398 columns]"
      ]
     },
     "execution_count": 89,
     "metadata": {},
     "output_type": "execute_result"
    }
   ],
   "source": [
    "train_transaction.head()"
   ]
  },
  {
   "cell_type": "markdown",
   "id": "6617d5db-162f-40b7-984c-71f8aac5cdcd",
   "metadata": {},
   "source": [
    "### 1.7.3 card1 - card6"
   ]
  },
  {
   "cell_type": "code",
   "execution_count": 105,
   "id": "e1d3668d-3468-4c8a-8609-eb88d79e5116",
   "metadata": {},
   "outputs": [
    {
     "data": {
      "text/html": [
       "<div>\n",
       "<style scoped>\n",
       "    .dataframe tbody tr th:only-of-type {\n",
       "        vertical-align: middle;\n",
       "    }\n",
       "\n",
       "    .dataframe tbody tr th {\n",
       "        vertical-align: top;\n",
       "    }\n",
       "\n",
       "    .dataframe thead th {\n",
       "        text-align: right;\n",
       "    }\n",
       "</style>\n",
       "<table border=\"1\" class=\"dataframe\">\n",
       "  <thead>\n",
       "    <tr style=\"text-align: right;\">\n",
       "      <th></th>\n",
       "      <th>card1</th>\n",
       "      <th>card2</th>\n",
       "      <th>card3</th>\n",
       "      <th>card4</th>\n",
       "      <th>card5</th>\n",
       "      <th>card6</th>\n",
       "    </tr>\n",
       "  </thead>\n",
       "  <tbody>\n",
       "    <tr>\n",
       "      <th>0</th>\n",
       "      <td>13926</td>\n",
       "      <td>NaN</td>\n",
       "      <td>150.0</td>\n",
       "      <td>discover</td>\n",
       "      <td>142.0</td>\n",
       "      <td>credit</td>\n",
       "    </tr>\n",
       "    <tr>\n",
       "      <th>1</th>\n",
       "      <td>2755</td>\n",
       "      <td>404.0</td>\n",
       "      <td>150.0</td>\n",
       "      <td>mastercard</td>\n",
       "      <td>102.0</td>\n",
       "      <td>credit</td>\n",
       "    </tr>\n",
       "    <tr>\n",
       "      <th>2</th>\n",
       "      <td>4663</td>\n",
       "      <td>490.0</td>\n",
       "      <td>150.0</td>\n",
       "      <td>visa</td>\n",
       "      <td>166.0</td>\n",
       "      <td>debit</td>\n",
       "    </tr>\n",
       "    <tr>\n",
       "      <th>3</th>\n",
       "      <td>18132</td>\n",
       "      <td>567.0</td>\n",
       "      <td>150.0</td>\n",
       "      <td>mastercard</td>\n",
       "      <td>117.0</td>\n",
       "      <td>debit</td>\n",
       "    </tr>\n",
       "    <tr>\n",
       "      <th>4</th>\n",
       "      <td>4497</td>\n",
       "      <td>514.0</td>\n",
       "      <td>150.0</td>\n",
       "      <td>mastercard</td>\n",
       "      <td>102.0</td>\n",
       "      <td>credit</td>\n",
       "    </tr>\n",
       "  </tbody>\n",
       "</table>\n",
       "</div>"
      ],
      "text/plain": [
       "   card1  card2  card3       card4  card5   card6\n",
       "0  13926    NaN  150.0    discover  142.0  credit\n",
       "1   2755  404.0  150.0  mastercard  102.0  credit\n",
       "2   4663  490.0  150.0        visa  166.0   debit\n",
       "3  18132  567.0  150.0  mastercard  117.0   debit\n",
       "4   4497  514.0  150.0  mastercard  102.0  credit"
      ]
     },
     "execution_count": 105,
     "metadata": {},
     "output_type": "execute_result"
    }
   ],
   "source": [
    "card_cols = [col for col in train_transaction.columns if 'card' in col]\n",
    "train_transaction[card_cols].head()"
   ]
  },
  {
   "cell_type": "code",
   "execution_count": 147,
   "id": "9e7813db-f0a4-4f83-a6d4-9bfe72d5580b",
   "metadata": {},
   "outputs": [
    {
     "data": {
      "image/png": "[encoded data removed]",
      "text/plain": [
       "<Figure size 720x144 with 1 Axes>"
      ]
     },
     "metadata": {},
     "output_type": "display_data"
    },
    {
     "data": {
      "image/png": "[encoded data removed]",
      "text/plain": [
       "<Figure size 720x144 with 1 Axes>"
      ]
     },
     "metadata": {},
     "output_type": "display_data"
    },
    {
     "data": {
      "image/png": "[encoded data removed]",
      "text/plain": [
       "<Figure size 720x144 with 1 Axes>"
      ]
     },
     "metadata": {},
     "output_type": "display_data"
    },
    {
     "data": {
      "image/png": "[encoded data removed]",
      "text/plain": [
       "<Figure size 720x144 with 1 Axes>"
      ]
     },
     "metadata": {},
     "output_type": "display_data"
    }
   ],
   "source": [
    "color_idx = 0\n",
    "for col in card_cols:\n",
    "    if train_transaction[col].dtype !='object':\n",
    "        train_transaction[col].plot(kind='hist', bins=50, title=f'{col} distribution',\n",
    "        color=color_pal[color_idx], figsize=(10, 2))\n",
    "    plt.show()\n",
    "    color_idx +=1"
   ]
  },
  {
   "cell_type": "code",
   "execution_count": 148,
   "id": "4c312686-32c1-4d74-9afc-af86347fd752",
   "metadata": {},
   "outputs": [
    {
     "data": {
      "text/plain": [
       "<Figure size 432x288 with 0 Axes>"
      ]
     },
     "metadata": {},
     "output_type": "display_data"
    },
    {
     "data": {
      "image/png": "[encoded data removed]",
      "text/plain": [
       "<Figure size 720x360 with 1 Axes>"
      ]
     },
     "metadata": {},
     "output_type": "display_data"
    },
    {
     "data": {
      "text/plain": [
       "<Figure size 432x288 with 0 Axes>"
      ]
     },
     "metadata": {},
     "output_type": "display_data"
    },
    {
     "data": {
      "image/png": "[encoded data removed]",
      "text/plain": [
       "<Figure size 720x360 with 1 Axes>"
      ]
     },
     "metadata": {},
     "output_type": "display_data"
    }
   ],
   "source": [
    "for col in card_cols:\n",
    "    if train_transaction[col].dtype == 'object':\n",
    "        plt.figure()\n",
    "        fig, ax = plt.subplots(figsize=(10,5))\n",
    "        sns.countplot(x=col, hue='isFraud', data=train_transaction)\n",
    "    \n",
    "        plt.ylabel('Count', fontsize=14)\n",
    "        plt.xlabel(col, fontsize=14)\n",
    "        plt.title(f'Feature {col} Histogram by Target', fontsize=16)\n",
    "        plt.tick_params(axis='both', which='major', labelsize=10)\n",
    "        plt.show();"
   ]
  },
  {
   "cell_type": "markdown",
   "id": "8742377a-43db-4bba-95f4-def0c2aa95c4",
   "metadata": {},
   "source": [
    "Not seeing any particularly useful pattern between target groups."
   ]
  },
  {
   "cell_type": "markdown",
   "id": "af4c3554-5fed-4769-a8ff-9b372de865e1",
   "metadata": {},
   "source": [
    "### 1.7.4 addr1, addr2\n",
    "\n",
    "Possibly representing difference addresses or region. "
   ]
  },
  {
   "cell_type": "code",
   "execution_count": 155,
   "id": "de00182b-977f-414b-a53d-dd6ea643bee0",
   "metadata": {},
   "outputs": [
    {
     "name": "stdout",
     "output_type": "stream",
     "text": [
      " addr1 - has 65706 NA values\n",
      " addr2 - has 65706 NA values\n"
     ]
    }
   ],
   "source": [
    "print(' addr1 - has {} NA values'.format(train_transaction['addr1'].isna().sum()))\n",
    "print(' addr2 - has {} NA values'.format(train_transaction['addr2'].isna().sum()))"
   ]
  },
  {
   "cell_type": "code",
   "execution_count": 154,
   "id": "34ddf310-1f45-4fb6-a405-81c55ebd975b",
   "metadata": {},
   "outputs": [
    {
     "data": {
      "text/plain": [
       "<AxesSubplot:ylabel='Frequency'>"
      ]
     },
     "execution_count": 154,
     "metadata": {},
     "output_type": "execute_result"
    },
    {
     "data": {
      "image/png": "[encoded data removed]",
      "text/plain": [
       "<Figure size 432x288 with 1 Axes>"
      ]
     },
     "metadata": {},
     "output_type": "display_data"
    }
   ],
   "source": [
    "train_transaction.addr1.plot(kind='hist', bins=100)"
   ]
  },
  {
   "cell_type": "code",
   "execution_count": 162,
   "id": "941060c9-6a74-4899-98ce-40f9118877d8",
   "metadata": {},
   "outputs": [
    {
     "data": {
      "text/plain": [
       "333"
      ]
     },
     "execution_count": 162,
     "metadata": {},
     "output_type": "execute_result"
    }
   ],
   "source": [
    "len(train_transaction.addr1.unique())"
   ]
  },
  {
   "cell_type": "markdown",
   "id": "fddcd367-4d07-4433-8945-5b28591490ad",
   "metadata": {},
   "source": [
    "\"addr1\" has 333 different values and the distribution is wide. "
   ]
  },
  {
   "cell_type": "code",
   "execution_count": 156,
   "id": "0a88aadb-269d-4e72-ac24-577e231bb385",
   "metadata": {},
   "outputs": [
    {
     "data": {
      "text/plain": [
       "<AxesSubplot:ylabel='Frequency'>"
      ]
     },
     "execution_count": 156,
     "metadata": {},
     "output_type": "execute_result"
    },
    {
     "data": {
      "image/png": "[encoded data removed]",
      "text/plain": [
       "<Figure size 432x288 with 1 Axes>"
      ]
     },
     "metadata": {},
     "output_type": "display_data"
    }
   ],
   "source": [
    "train_transaction.addr2.plot(kind='hist', bins=100)"
   ]
  },
  {
   "cell_type": "code",
   "execution_count": 161,
   "id": "e62c0cf0-4657-4066-a360-82f2f82fa131",
   "metadata": {},
   "outputs": [
    {
     "data": {
      "text/plain": [
       "75"
      ]
     },
     "execution_count": 161,
     "metadata": {},
     "output_type": "execute_result"
    }
   ],
   "source": [
    "len(train_transaction.addr2.unique())"
   ]
  },
  {
   "cell_type": "code",
   "execution_count": 168,
   "id": "f4fa5b13-6635-40dd-86e0-e3e352ecb0c9",
   "metadata": {},
   "outputs": [
    {
     "data": {
      "text/plain": [
       "87.0    0.881365\n",
       "NaN     0.111264\n",
       "60.0    0.005222\n",
       "96.0    0.001080\n",
       "32.0    0.000154\n",
       "          ...   \n",
       "22.0    0.000002\n",
       "25.0    0.000002\n",
       "75.0    0.000002\n",
       "49.0    0.000002\n",
       "77.0    0.000002\n",
       "Name: addr2, Length: 75, dtype: float64"
      ]
     },
     "execution_count": 168,
     "metadata": {},
     "output_type": "execute_result"
    }
   ],
   "source": [
    "train_transaction.addr2.value_counts(normalize=True, dropna=False)"
   ]
  },
  {
   "cell_type": "markdown",
   "id": "bda258d7-21a0-4e82-8da7-41f233e02a0c",
   "metadata": {},
   "source": [
    "\"addr2\" has only 75 different values and 88% of them is 85. 11% is NaN. "
   ]
  },
  {
   "cell_type": "markdown",
   "id": "b86bce3f-3d2d-4772-b14f-928e8f7bfde5",
   "metadata": {},
   "source": [
    "### 1.7.5 M1-M9\n",
    "\n",
    "These features seem to be binary with an exception of \"M4\", which has values such as M2 and M0. "
   ]
  },
  {
   "cell_type": "code",
   "execution_count": 174,
   "id": "4eb3ef06-17df-453f-bfba-a646f82991e2",
   "metadata": {},
   "outputs": [
    {
     "data": {
      "text/html": [
       "<div>\n",
       "<style scoped>\n",
       "    .dataframe tbody tr th:only-of-type {\n",
       "        vertical-align: middle;\n",
       "    }\n",
       "\n",
       "    .dataframe tbody tr th {\n",
       "        vertical-align: top;\n",
       "    }\n",
       "\n",
       "    .dataframe thead th {\n",
       "        text-align: right;\n",
       "    }\n",
       "</style>\n",
       "<table border=\"1\" class=\"dataframe\">\n",
       "  <thead>\n",
       "    <tr style=\"text-align: right;\">\n",
       "      <th></th>\n",
       "      <th>M1</th>\n",
       "      <th>M2</th>\n",
       "      <th>M3</th>\n",
       "      <th>M4</th>\n",
       "      <th>M5</th>\n",
       "      <th>M6</th>\n",
       "      <th>M7</th>\n",
       "      <th>M8</th>\n",
       "      <th>M9</th>\n",
       "    </tr>\n",
       "  </thead>\n",
       "  <tbody>\n",
       "    <tr>\n",
       "      <th>0</th>\n",
       "      <td>T</td>\n",
       "      <td>T</td>\n",
       "      <td>T</td>\n",
       "      <td>M2</td>\n",
       "      <td>F</td>\n",
       "      <td>T</td>\n",
       "      <td>NaN</td>\n",
       "      <td>NaN</td>\n",
       "      <td>NaN</td>\n",
       "    </tr>\n",
       "    <tr>\n",
       "      <th>1</th>\n",
       "      <td>NaN</td>\n",
       "      <td>NaN</td>\n",
       "      <td>NaN</td>\n",
       "      <td>M0</td>\n",
       "      <td>T</td>\n",
       "      <td>T</td>\n",
       "      <td>NaN</td>\n",
       "      <td>NaN</td>\n",
       "      <td>NaN</td>\n",
       "    </tr>\n",
       "    <tr>\n",
       "      <th>2</th>\n",
       "      <td>T</td>\n",
       "      <td>T</td>\n",
       "      <td>T</td>\n",
       "      <td>M0</td>\n",
       "      <td>F</td>\n",
       "      <td>F</td>\n",
       "      <td>F</td>\n",
       "      <td>F</td>\n",
       "      <td>F</td>\n",
       "    </tr>\n",
       "    <tr>\n",
       "      <th>3</th>\n",
       "      <td>NaN</td>\n",
       "      <td>NaN</td>\n",
       "      <td>NaN</td>\n",
       "      <td>M0</td>\n",
       "      <td>T</td>\n",
       "      <td>F</td>\n",
       "      <td>NaN</td>\n",
       "      <td>NaN</td>\n",
       "      <td>NaN</td>\n",
       "    </tr>\n",
       "    <tr>\n",
       "      <th>4</th>\n",
       "      <td>NaN</td>\n",
       "      <td>NaN</td>\n",
       "      <td>NaN</td>\n",
       "      <td>NaN</td>\n",
       "      <td>NaN</td>\n",
       "      <td>NaN</td>\n",
       "      <td>NaN</td>\n",
       "      <td>NaN</td>\n",
       "      <td>NaN</td>\n",
       "    </tr>\n",
       "  </tbody>\n",
       "</table>\n",
       "</div>"
      ],
      "text/plain": [
       "    M1   M2   M3   M4   M5   M6   M7   M8   M9\n",
       "0    T    T    T   M2    F    T  NaN  NaN  NaN\n",
       "1  NaN  NaN  NaN   M0    T    T  NaN  NaN  NaN\n",
       "2    T    T    T   M0    F    F    F    F    F\n",
       "3  NaN  NaN  NaN   M0    T    F  NaN  NaN  NaN\n",
       "4  NaN  NaN  NaN  NaN  NaN  NaN  NaN  NaN  NaN"
      ]
     },
     "execution_count": 174,
     "metadata": {},
     "output_type": "execute_result"
    }
   ],
   "source": [
    "m_cols = [c for c in train_transaction if c[0] == 'M']\n",
    "train_transaction[m_cols].head()"
   ]
  },
  {
   "cell_type": "code",
   "execution_count": 178,
   "id": "f104861d-1887-4a6d-a6c8-02f02cb5f5c8",
   "metadata": {},
   "outputs": [
    {
     "data": {
      "text/plain": [
       "<AxesSubplot:>"
      ]
     },
     "execution_count": 178,
     "metadata": {},
     "output_type": "execute_result"
    },
    {
     "data": {
      "image/png": "[encoded data removed]",
      "text/plain": [
       "<Figure size 432x288 with 1 Axes>"
      ]
     },
     "metadata": {},
     "output_type": "display_data"
    }
   ],
   "source": [
    "train_transaction.M1.value_counts(dropna=False).plot(kind=\"bar\")"
   ]
  },
  {
   "cell_type": "code",
   "execution_count": 173,
   "id": "5f83d464-a4a9-45cb-bd5a-acac88bd687c",
   "metadata": {},
   "outputs": [
    {
     "data": {
      "text/plain": [
       "T      0.483402\n",
       "NaN    0.459071\n",
       "F      0.057527\n",
       "Name: M2, dtype: float64"
      ]
     },
     "execution_count": 173,
     "metadata": {},
     "output_type": "execute_result"
    }
   ],
   "source": [
    "train_transaction.M2.value_counts(dropna=False, normalize=True)"
   ]
  },
  {
   "cell_type": "code",
   "execution_count": 175,
   "id": "c373e335-690d-45b3-8a5a-270cc4765078",
   "metadata": {},
   "outputs": [
    {
     "data": {
      "text/plain": [
       "NaN    0.459071\n",
       "T      0.426273\n",
       "F      0.114656\n",
       "Name: M3, dtype: float64"
      ]
     },
     "execution_count": 175,
     "metadata": {},
     "output_type": "execute_result"
    }
   ],
   "source": [
    "train_transaction.M3.value_counts(dropna=False, normalize=True)"
   ]
  },
  {
   "cell_type": "code",
   "execution_count": 176,
   "id": "14eef8e8-48c9-44bb-b8a0-1e15c1dbcc1a",
   "metadata": {},
   "outputs": [
    {
     "data": {
      "text/plain": [
       "NaN    0.476588\n",
       "M0     0.332585\n",
       "M2     0.101373\n",
       "M1     0.089454\n",
       "Name: M4, dtype: float64"
      ]
     },
     "execution_count": 176,
     "metadata": {},
     "output_type": "execute_result"
    }
   ],
   "source": [
    "train_transaction.M4.value_counts(dropna=False, normalize=True)"
   ]
  },
  {
   "cell_type": "code",
   "execution_count": null,
   "id": "cfa29062-4df3-4318-932c-6252422ea3dd",
   "metadata": {},
   "outputs": [],
   "source": []
  }
 ],
 "metadata": {
  "kernelspec": {
   "display_name": "Python [conda env:573]",
   "language": "python",
   "name": "conda-env-573-py"
  },
  "language_info": {
   "codemirror_mode": {
    "name": "ipython",
    "version": 3
   },
   "file_extension": ".py",
   "mimetype": "text/x-python",
   "name": "python",
   "nbconvert_exporter": "python",
   "pygments_lexer": "ipython3",
   "version": "3.8.6"
  }
 },
 "nbformat": 4,
 "nbformat_minor": 5
}
